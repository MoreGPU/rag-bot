{
 "cells": [
  {
   "cell_type": "markdown",
   "metadata": {},
   "source": [
    "# Create Azure AI Search Index"
   ]
  },
  {
   "cell_type": "code",
   "execution_count": 1,
   "metadata": {},
   "outputs": [],
   "source": [
    "from azure.search.documents import SearchClient\n",
    "from azure.search.documents.indexes.models import *\n",
    "from azure.storage.blob import BlobServiceClient\n",
    "from azure.core.credentials import AzureKeyCredential\n",
    "from azure.search.documents.indexes import SearchIndexClient"
   ]
  },
  {
   "cell_type": "markdown",
   "metadata": {},
   "source": [
    "## Set environment variables"
   ]
  },
  {
   "cell_type": "code",
   "execution_count": 2,
   "metadata": {},
   "outputs": [],
   "source": [
    "import os\n",
    "from dotenv import load_dotenv\n",
    "\n",
    "load_dotenv('../.env')\n",
    "\n",
    "# AZURE AI SEARCH CREDENTIALS\n",
    "searchservice = os.environ.get('searchservice')\n",
    "index = os.environ.get('index')\n",
    "searchkey = os.environ.get('searchkey')\n",
    "\n",
    "# OPENAI CONFIGURATION\n",
    "openai_key = os.environ.get('openai_key')\n",
    "\n",
    "# DATA CONFIGURATION\n",
    "filepath = os.environ.get('filepath')"
   ]
  },
  {
   "cell_type": "code",
   "execution_count": 3,
   "metadata": {},
   "outputs": [],
   "source": [
    "# set credentials\n",
    "search_creds = AzureKeyCredential(searchkey)"
   ]
  },
  {
   "cell_type": "code",
   "execution_count": 4,
   "metadata": {},
   "outputs": [],
   "source": [
    "def create_search_index(index):\n",
    "    \n",
    "    # Initialize search index client\n",
    "    print(f\"Ensuring search index {index} exists\")\n",
    "    index_client = SearchIndexClient(\n",
    "        endpoint=f\"https://{searchservice}.search.windows.net/\",\n",
    "        credential=search_creds \n",
    "    )\n",
    "    \n",
    "    # define fields if index does not exist\n",
    "    if index not in index_client.list_index_names():\n",
    "        \n",
    "        print(f\"Creating index {index}\")\n",
    "        fields = [\n",
    "            SimpleField(\n",
    "                name=\"id\", \n",
    "                type=SearchFieldDataType.String, \n",
    "                key=True,\n",
    "                sortable=True,\n",
    "                filterable=True,\n",
    "                facetable=True\n",
    "                ),\n",
    "            SearchableField(\n",
    "                name=\"content\",\n",
    "                type=SearchFieldDataType.String,\n",
    "                analyzer_name=\"en.microsoft\" \n",
    "            ),\n",
    "            SearchField(\n",
    "                name=\"embedding\",\n",
    "                type=SearchFieldDataType.Collection(SearchFieldDataType.Single),\n",
    "                searchable=True,\n",
    "                vector_search_dimensions=1536,\n",
    "                vector_search_profile_name=\"mlops-vector-profile\"\n",
    "            ),\n",
    "            SimpleField(\n",
    "                name=\"sourcepage\",\n",
    "                type=SearchFieldDataType.String,\n",
    "                filterable=True,\n",
    "                facetable=True \n",
    "            ),\n",
    "            SimpleField(\n",
    "                name=\"sourcefile\",\n",
    "                type=SearchFieldDataType.String,\n",
    "                filterable=False,\n",
    "                facetable=False\n",
    "            )\n",
    "        ]\n",
    "\n",
    "        # configure the vector search\n",
    "        vector_search = VectorSearch(\n",
    "            profiles=[VectorSearchProfile(name=\"mlops-vector-profile\", algorithm_configuration_name=\"mlops-vector-search-algo\")],\n",
    "            algorithms=[HnswAlgorithmConfiguration(name=\"mlops-vector-search-algo\")]\n",
    "        )\n",
    "        \n",
    "        # configure semantic search\n",
    "        semantic_config = SemanticConfiguration(\n",
    "            name=\"mlops-semantic-config\",\n",
    "            prioritized_fields=SemanticPrioritizedFields(\n",
    "                content_fields=[SemanticField(field_name=\"content\")]\n",
    "            )\n",
    "        )\n",
    "        semantic_search = SemanticSearch(\n",
    "            configurations=[semantic_config]\n",
    "        )\n",
    "        \n",
    "        # create the search index with vector and semantic settings\n",
    "        index = SearchIndex(\n",
    "            name=index,\n",
    "            fields=fields,\n",
    "            vector_search=vector_search,\n",
    "            semantic_search=semantic_search \n",
    "        )\n",
    "        result = index_client.create_or_update_index(index)\n",
    "        print(f\"{result.name} created\")\n",
    "        \n",
    "    else:\n",
    "        print(f\"Search index {index} already exists\")"
   ]
  },
  {
   "cell_type": "code",
   "execution_count": 5,
   "metadata": {},
   "outputs": [
    {
     "name": "stdout",
     "output_type": "stream",
     "text": [
      "Ensuring search index mlops-rag exists\n",
      "Creating index mlops-rag\n",
      "mlops-rag created\n"
     ]
    }
   ],
   "source": [
    "if __name__ == \"__main__\":\n",
    "    create_search_index(index)"
   ]
  }
 ],
 "metadata": {
  "kernelspec": {
   "display_name": "Python 3",
   "language": "python",
   "name": "python3"
  },
  "language_info": {
   "codemirror_mode": {
    "name": "ipython",
    "version": 3
   },
   "file_extension": ".py",
   "mimetype": "text/x-python",
   "name": "python",
   "nbconvert_exporter": "python",
   "pygments_lexer": "ipython3",
   "version": "3.10.13"
  }
 },
 "nbformat": 4,
 "nbformat_minor": 2
}
