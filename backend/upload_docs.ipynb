{
 "cells": [
  {
   "cell_type": "code",
   "execution_count": 1,
   "metadata": {},
   "outputs": [],
   "source": [
    "import sys \n",
    "sys.path.append('../')\n",
    "sys.path.append('../utils/')\n",
    "from config import *\n",
    "from azure_utils import (\n",
    "    PDFExtractor,\n",
    "    Chunker, \n",
    "    create_sections,\n",
    "    Uploader\n",
    ")\n",
    "from openai_utils import Embedder "
   ]
  },
  {
   "cell_type": "code",
   "execution_count": 2,
   "metadata": {},
   "outputs": [
    {
     "name": "stderr",
     "output_type": "stream",
     "text": [
      "100%|██████████| 45/45 [00:05<00:00,  7.59it/s]"
     ]
    },
    {
     "name": "stdout",
     "output_type": "stream",
     "text": [
      "Documents uploaded\n"
     ]
    },
    {
     "name": "stderr",
     "output_type": "stream",
     "text": [
      "\n"
     ]
    }
   ],
   "source": [
    "if __name__ == \"__main__\":\n",
    "    \n",
    "    # load pdf and extract text/page map\n",
    "    extractor = PDFExtractor()\n",
    "    text, page_map = extractor.get_document_text(filepath)\n",
    "    \n",
    "    # chunk document, embed, and create sections (azure documents)\n",
    "    chunker = Chunker(chunk_size=400, overlap=100, separator=\" \")\n",
    "    embedder = Embedder(key=openai_api_key)\n",
    "    chunks = chunker.create_chunks(text, page_map)\n",
    "    sourcefile = filepath.split('/')[-1]\n",
    "    sections = create_sections(chunks, embedder, sourcefile)        \n",
    "    \n",
    "    # upload documents to index\n",
    "    uploader = Uploader(\n",
    "        searchservice=searchservice,\n",
    "        index_name=index_name,\n",
    "        key=searchkey\n",
    "    )\n",
    "    uploader.upload_documents(sections)"
   ]
  }
 ],
 "metadata": {
  "kernelspec": {
   "display_name": "Python 3",
   "language": "python",
   "name": "python3"
  },
  "language_info": {
   "codemirror_mode": {
    "name": "ipython",
    "version": 3
   },
   "file_extension": ".py",
   "mimetype": "text/x-python",
   "name": "python",
   "nbconvert_exporter": "python",
   "pygments_lexer": "ipython3",
   "version": "3.10.13"
  }
 },
 "nbformat": 4,
 "nbformat_minor": 2
}
