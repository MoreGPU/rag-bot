{
 "cells": [
  {
   "cell_type": "markdown",
   "metadata": {},
   "source": [
    "# Create Azure AI Search Index"
   ]
  },
  {
   "cell_type": "code",
   "execution_count": 3,
   "metadata": {},
   "outputs": [],
   "source": [
    "import sys\n",
    "sys.path.append('../')\n",
    "from config import *\n",
    "from utils.azure_utils import *\n",
    "from utils.openai_utils import *\n",
    "\n",
    "from azure.search.documents.indexes.models import (\n",
    "    HnswAlgorithmConfiguration,\n",
    "    SearchField,\n",
    "    SearchableField,\n",
    "    SearchFieldDataType,\n",
    "    SemanticConfiguration,\n",
    "    SemanticField,\n",
    "    SemanticPrioritizedFields,\n",
    "    SemanticSearch,\n",
    "    SimpleField,\n",
    "    VectorSearch,\n",
    "    VectorSearchProfile\n",
    ")"
   ]
  },
  {
   "cell_type": "code",
   "execution_count": 2,
   "metadata": {},
   "outputs": [
    {
     "name": "stdout",
     "output_type": "stream",
     "text": [
      "Ensuring search index mlops-rag exists\n",
      "Creating index mlops-rag\n",
      "mlops-rag created\n"
     ]
    }
   ],
   "source": [
    "if __name__ == \"__main__\":\n",
    "    \n",
    "    # define fields for index\n",
    "    fields = [\n",
    "        SimpleField(\n",
    "            name=\"id\", \n",
    "            type=SearchFieldDataType.String, \n",
    "            key=True,\n",
    "            sortable=True,\n",
    "            filterable=True,\n",
    "            facetable=True\n",
    "            ),\n",
    "        SearchableField(\n",
    "            name=\"content\",\n",
    "            type=SearchFieldDataType.String,\n",
    "            analyzer_name=\"en.microsoft\" \n",
    "        ),\n",
    "        SearchField(\n",
    "            name=\"embedding\",\n",
    "            type=SearchFieldDataType.Collection(SearchFieldDataType.Single),\n",
    "            searchable=True,\n",
    "            vector_search_dimensions=1536,\n",
    "            vector_search_profile_name=\"mlops-vector-profile\"\n",
    "        ),\n",
    "        SimpleField(\n",
    "            name=\"sourcepage\",\n",
    "            type=SearchFieldDataType.String,\n",
    "            filterable=True,\n",
    "            facetable=True \n",
    "        ),\n",
    "        SimpleField(\n",
    "            name=\"sourcefile\",\n",
    "            type=SearchFieldDataType.String,\n",
    "            filterable=False,\n",
    "            facetable=False\n",
    "        )\n",
    "    ]\n",
    "\n",
    "    # configure the vector search\n",
    "    vector_search = VectorSearch(\n",
    "        profiles=[VectorSearchProfile(name=\"mlops-vector-profile\", algorithm_configuration_name=\"mlops-vector-search-algo\")],\n",
    "        algorithms=[HnswAlgorithmConfiguration(name=\"mlops-vector-search-algo\")]\n",
    "    )\n",
    "    \n",
    "    # configure semantic search\n",
    "    semantic_config = SemanticConfiguration(\n",
    "        name=\"mlops-semantic-config\",\n",
    "        prioritized_fields=SemanticPrioritizedFields(\n",
    "            content_fields=[SemanticField(field_name=\"content\")]\n",
    "        )\n",
    "    )\n",
    "    semantic_search = SemanticSearch(\n",
    "        configurations=[semantic_config]\n",
    "    )\n",
    "    \n",
    "    create_search_index(\n",
    "        index_name=index_name, \n",
    "        searchservice=searchservice, \n",
    "        key=searchkey,\n",
    "        fields=fields,\n",
    "        vector_search=vector_search,\n",
    "        semantic_search=semantic_search)"
   ]
  }
 ],
 "metadata": {
  "kernelspec": {
   "display_name": "Python 3",
   "language": "python",
   "name": "python3"
  },
  "language_info": {
   "codemirror_mode": {
    "name": "ipython",
    "version": 3
   },
   "file_extension": ".py",
   "mimetype": "text/x-python",
   "name": "python",
   "nbconvert_exporter": "python",
   "pygments_lexer": "ipython3",
   "version": "3.10.13"
  }
 },
 "nbformat": 4,
 "nbformat_minor": 2
}
