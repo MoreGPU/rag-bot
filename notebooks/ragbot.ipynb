{
 "cells": [
  {
   "cell_type": "markdown",
   "metadata": {},
   "source": [
    "# Example of using RAGBot"
   ]
  },
  {
   "cell_type": "markdown",
   "metadata": {},
   "source": [
    "OpenAI package documentation: \n",
    "https://github.com/openai/openai-python"
   ]
  },
  {
   "cell_type": "code",
   "execution_count": 2,
   "metadata": {},
   "outputs": [],
   "source": [
    "import sys\n",
    "sys.path.append('../')\n",
    "from config import *\n",
    "from utils.azure_utils import *\n",
    "from utils.openai_utils import *\n",
    "\n",
    "from typing import List\n"
   ]
  },
  {
   "cell_type": "code",
   "execution_count": 3,
   "metadata": {},
   "outputs": [
    {
     "name": "stdout",
     "output_type": "stream",
     "text": [
      "MLOps, short for Machine Learning Operations, refers to the practices and processes used to streamline the development, deployment, and management of machine learning models. It aims to bridge the gap between data science and IT operations, enabling organizations to efficiently and effectively operationalize their machine learning workflows.\n",
      "\n",
      "MLOps involves implementing continuous integration and deployment (CI/CD) practices, ensuring proper monitoring, validation, and governance of models. It helps data teams become faster at model development, improves the quality of ML models, and speeds up deployment and production. MLOps also enables scalability, allowing organizations to handle thousands of models and ensuring reproducibility of ML pipelines.\n",
      "\n",
      "One of the primary benefits of MLOps is efficiency, as it helps teams become more productive and increases the success rate of ML projects. It also enhances scalability, enabling organizations to manage and monitor multiple models simultaneously. MLOps reduces waste by minimizing time and money spent on abandoned or misguided efforts. Additionally, it encourages collaboration among data engineers, data scientists, machine learning engineers, and other stakeholders involved in the ML development and deployment process.\n",
      "\n",
      "Overall, MLOps plays a crucial role in ensuring the successful implementation and management of machine learning models, improving efficiency, scalability, and collaboration within organizations.\n"
     ]
    }
   ],
   "source": [
    "if __name__ == \"__main__\":\n",
    "    # initialze Azure AI Search object \n",
    "    custom_search = CustomAzureSearch(\n",
    "        searchservice=searchservice,\n",
    "        searchkey=searchkey,\n",
    "        index_name=index_name,\n",
    "        number_results_to_return=3,\n",
    "        number_near_neighbors=3,\n",
    "        embedding_field_name=\"embedding\",\n",
    "        openai_api_key=openai_api_key,\n",
    "        embedding_model=\"text-embedding-ada-002\" \n",
    "    )\n",
    "\n",
    "    # initialize OpenAI Chat object \n",
    "    system_message = \"You are an assistant here to answer questions about the ebook: 'MLOps for Dummies: Databricks Special Edition'\" \n",
    "    openai_chat = OpenAIChat(\n",
    "        openai_api_key=openai_api_key,\n",
    "        model=\"gpt-3.5-turbo\",\n",
    "        system_message=system_message,\n",
    "        n=1,\n",
    "        temperature=0.2\n",
    "    )\n",
    "\n",
    "    # initalize RAG model\n",
    "    model = RAGBot(\n",
    "        fields_to_return=[\"id\", \"sourcepage\", \"content\"],\n",
    "        azure_search_object=custom_search,\n",
    "        openai_chat_object=openai_chat\n",
    "    )\n",
    "\n",
    "    # perform RAG on query\n",
    "    query = \"tell me about mlops\" \n",
    "    response, memory = model(query)\n",
    "    print(response)"
   ]
  },
  {
   "cell_type": "code",
   "execution_count": null,
   "metadata": {},
   "outputs": [],
   "source": []
  }
 ],
 "metadata": {
  "kernelspec": {
   "display_name": "Python 3",
   "language": "python",
   "name": "python3"
  },
  "language_info": {
   "codemirror_mode": {
    "name": "ipython",
    "version": 3
   },
   "file_extension": ".py",
   "mimetype": "text/x-python",
   "name": "python",
   "nbconvert_exporter": "python",
   "pygments_lexer": "ipython3",
   "version": "3.10.13"
  }
 },
 "nbformat": 4,
 "nbformat_minor": 2
}
